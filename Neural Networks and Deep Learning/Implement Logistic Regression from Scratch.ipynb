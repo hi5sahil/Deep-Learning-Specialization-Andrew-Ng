{
 "cells": [
  {
   "cell_type": "code",
   "execution_count": 1,
   "id": "2446ffbd",
   "metadata": {},
   "outputs": [
    {
     "data": {
      "text/html": [
       "<div>\n",
       "<style scoped>\n",
       "    .dataframe tbody tr th:only-of-type {\n",
       "        vertical-align: middle;\n",
       "    }\n",
       "\n",
       "    .dataframe tbody tr th {\n",
       "        vertical-align: top;\n",
       "    }\n",
       "\n",
       "    .dataframe thead th {\n",
       "        text-align: right;\n",
       "    }\n",
       "</style>\n",
       "<table border=\"1\" class=\"dataframe\">\n",
       "  <thead>\n",
       "    <tr style=\"text-align: right;\">\n",
       "      <th></th>\n",
       "      <th>Pregnancies</th>\n",
       "      <th>Glucose</th>\n",
       "      <th>BloodPressure</th>\n",
       "      <th>SkinThickness</th>\n",
       "      <th>Insulin</th>\n",
       "      <th>BMI</th>\n",
       "      <th>DiabetesPedigreeFunction</th>\n",
       "      <th>Age</th>\n",
       "      <th>Outcome</th>\n",
       "    </tr>\n",
       "  </thead>\n",
       "  <tbody>\n",
       "    <tr>\n",
       "      <th>0</th>\n",
       "      <td>6</td>\n",
       "      <td>148</td>\n",
       "      <td>72</td>\n",
       "      <td>35</td>\n",
       "      <td>0</td>\n",
       "      <td>33.6</td>\n",
       "      <td>0.627</td>\n",
       "      <td>50</td>\n",
       "      <td>1</td>\n",
       "    </tr>\n",
       "    <tr>\n",
       "      <th>1</th>\n",
       "      <td>1</td>\n",
       "      <td>85</td>\n",
       "      <td>66</td>\n",
       "      <td>29</td>\n",
       "      <td>0</td>\n",
       "      <td>26.6</td>\n",
       "      <td>0.351</td>\n",
       "      <td>31</td>\n",
       "      <td>0</td>\n",
       "    </tr>\n",
       "    <tr>\n",
       "      <th>2</th>\n",
       "      <td>8</td>\n",
       "      <td>183</td>\n",
       "      <td>64</td>\n",
       "      <td>0</td>\n",
       "      <td>0</td>\n",
       "      <td>23.3</td>\n",
       "      <td>0.672</td>\n",
       "      <td>32</td>\n",
       "      <td>1</td>\n",
       "    </tr>\n",
       "    <tr>\n",
       "      <th>3</th>\n",
       "      <td>1</td>\n",
       "      <td>89</td>\n",
       "      <td>66</td>\n",
       "      <td>23</td>\n",
       "      <td>94</td>\n",
       "      <td>28.1</td>\n",
       "      <td>0.167</td>\n",
       "      <td>21</td>\n",
       "      <td>0</td>\n",
       "    </tr>\n",
       "    <tr>\n",
       "      <th>4</th>\n",
       "      <td>0</td>\n",
       "      <td>137</td>\n",
       "      <td>40</td>\n",
       "      <td>35</td>\n",
       "      <td>168</td>\n",
       "      <td>43.1</td>\n",
       "      <td>2.288</td>\n",
       "      <td>33</td>\n",
       "      <td>1</td>\n",
       "    </tr>\n",
       "  </tbody>\n",
       "</table>\n",
       "</div>"
      ],
      "text/plain": [
       "   Pregnancies  Glucose  BloodPressure  SkinThickness  Insulin   BMI  \\\n",
       "0            6      148             72             35        0  33.6   \n",
       "1            1       85             66             29        0  26.6   \n",
       "2            8      183             64              0        0  23.3   \n",
       "3            1       89             66             23       94  28.1   \n",
       "4            0      137             40             35      168  43.1   \n",
       "\n",
       "   DiabetesPedigreeFunction  Age  Outcome  \n",
       "0                     0.627   50        1  \n",
       "1                     0.351   31        0  \n",
       "2                     0.672   32        1  \n",
       "3                     0.167   21        0  \n",
       "4                     2.288   33        1  "
      ]
     },
     "execution_count": 1,
     "metadata": {},
     "output_type": "execute_result"
    }
   ],
   "source": [
    "# Libraries needed for the tutorial\n",
    "\n",
    "import pandas as pd\n",
    "import requests\n",
    "import io\n",
    "import matplotlib.pyplot as plt\n",
    "    \n",
    "# Downloading the csv file from your GitHub account\n",
    "\n",
    "url = \"https://raw.githubusercontent.com/mohit-baliyan/references/master/diabetes.csv\" # Make sure the url is the raw version of the file on GitHub\n",
    "download = requests.get(url).content\n",
    "\n",
    "# Reading the downloaded content and turning it into a pandas dataframe\n",
    "\n",
    "df = pd.read_csv(io.StringIO(download.decode('utf-8')), sep=',')\n",
    "\n",
    "# Printing out the first 5 rows of the dataframe\n",
    "\n",
    "df.head()"
   ]
  },
  {
   "cell_type": "code",
   "execution_count": 2,
   "id": "769bca34",
   "metadata": {},
   "outputs": [
    {
     "name": "stdout",
     "output_type": "stream",
     "text": [
      "[0.47639637 0.1971903  0.50398409 0.2054428  0.76799314 0.25683559\n",
      " 0.3225003  0.77214239 0.75779696 0.19702091 0.21433369 0.54790781\n",
      " 0.62027945 0.91616126 0.57389433 0.72798096 0.35697656 0.30570532\n",
      " 0.52646981 0.31990651 0.369243   0.3963853  0.47985716 0.2787558\n",
      " 0.5200176  0.50671706 0.4704647  0.25023227 0.5639473  0.26276726\n",
      " 0.44812247 0.4722043  0.25229577 0.14897313 0.40711748 0.45783723\n",
      " 0.47095864 0.41625829 0.2440716  0.6405727  0.41138698 0.42567251\n",
      " 0.23997926 0.62720085 0.47227786 0.50460823 0.37266925 0.17565201\n",
      " 0.36922972 0.50463629 0.16600143 0.29829082 0.25784079 0.67468807\n",
      " 0.7155187  0.20358625 0.70353742 0.27504177 0.48330121 0.29279226\n",
      " 0.36332848 0.43126942 0.27889636 0.37974039 0.43086088 0.23681941\n",
      " 0.21021706 0.36988805 0.18681098 0.25879313 0.34954449 0.40330629\n",
      " 0.52828039 0.35418772 0.15591644 0.14094327 0.29991995 0.27082388\n",
      " 0.6784444  0.20890806 0.29360765 0.33325473 0.33910098 0.16202087\n",
      " 0.27269824 0.30957369 0.46449639 0.29121664 0.64711804 0.18268549\n",
      " 0.18527767 0.38243213 0.38306209 0.4108447  0.23347589 0.5406184\n",
      " 0.21285236 0.23618526 0.36712    0.33712165 0.45699267 0.27040797\n",
      " 0.10533302 0.17004218 0.33981034 0.38667705 0.06024789 0.48323309]\n"
     ]
    }
   ],
   "source": [
    "import numpy as np\n",
    "import math\n",
    "import warnings\n",
    "\n",
    "X = df.drop(\"Outcome\", axis=1).to_numpy().T\n",
    "Y = df['Outcome'].to_numpy()\n",
    "\n",
    "# Initialize weights & bias to random values\n",
    "\n",
    "W = np.random.rand(df.shape[1] - 1)\n",
    "b = 0\n",
    "\n",
    "# An empty to list to append loss from each epoch\n",
    "J = []\n",
    "\n",
    "# suppress warnings\n",
    "warnings.filterwarnings('ignore')\n",
    "\n",
    "# custom function\n",
    "def sigmoid(x):\n",
    "  return np.exp(x)/(1 + np.exp(x))\n",
    "\n",
    "# define vectorized sigmoid\n",
    "sigmoid_v = np.vectorize(sigmoid)\n",
    "lr = 0.00001\n",
    "\n",
    "for epochs in range(0, 5000000):    \n",
    "    \n",
    "    Z = np.dot(W.T, X) + b\n",
    "    \n",
    "    A = 1/(1 + np.exp(-Z))\n",
    "    \n",
    "    # append the loss to the list\n",
    "    J.append(np.sum(-(Y*np.log(A) + (1-Y)*np.log(1-A))))\n",
    "    \n",
    "    # partial derivatives of loss function w.r.t. the logit i.e. Z \n",
    "    # (equation derived analytically)\n",
    "    dZ = A - Y\n",
    "    \n",
    "    m = len(df)\n",
    "    \n",
    "    # partial derivatives of loss function w.r.t. weight parameters for each predictor and bias\n",
    "    # (equation derived analytically)\n",
    "    dW = (1/m)*np.dot(X, dZ)\n",
    "    \n",
    "    # partial derivatives of loss function w.r.t. bias parameter\n",
    "    # (equation derived analytically)\n",
    "    db = (1/m)*np.sum(dZ)\n",
    "    \n",
    "    # update weights and bias by taking a step in the opposite direction of gradient\n",
    "    W = W - lr*dW\n",
    "    b = b - lr*db\n",
    "    \n",
    "print(A)\n"
   ]
  },
  {
   "cell_type": "code",
   "execution_count": 3,
   "id": "0e844ad5",
   "metadata": {},
   "outputs": [
    {
     "data": {
      "text/plain": [
       "array([        nan,         nan,         nan, ..., 59.30577253,\n",
       "       59.30577159, 59.30577064])"
      ]
     },
     "execution_count": 3,
     "metadata": {},
     "output_type": "execute_result"
    }
   ],
   "source": [
    "J = np.array(J)\n",
    "J"
   ]
  },
  {
   "cell_type": "code",
   "execution_count": 4,
   "id": "3ca58509",
   "metadata": {},
   "outputs": [
    {
     "data": {
      "text/plain": [
       "array([745.93993595, 745.84962689, 745.75941281, ...,  59.30577253,\n",
       "        59.30577159,  59.30577064])"
      ]
     },
     "execution_count": 4,
     "metadata": {},
     "output_type": "execute_result"
    }
   ],
   "source": [
    "J[(~np.isinf(J)) & (~np.isnan(J))]"
   ]
  },
  {
   "cell_type": "code",
   "execution_count": 5,
   "id": "7029a953",
   "metadata": {},
   "outputs": [
    {
     "data": {
      "text/plain": [
       "[<matplotlib.lines.Line2D at 0x7fd449377100>]"
      ]
     },
     "execution_count": 5,
     "metadata": {},
     "output_type": "execute_result"
    },
    {
     "data": {
      "image/png": "[encoded data removed]",
      "text/plain": [
       "<Figure size 640x480 with 1 Axes>"
      ]
     },
     "metadata": {},
     "output_type": "display_data"
    }
   ],
   "source": [
    "plt.plot(J[(~np.isinf(J)) & (~np.isnan(J))])"
   ]
  },
  {
   "cell_type": "code",
   "execution_count": 6,
   "id": "3af737c1",
   "metadata": {},
   "outputs": [],
   "source": [
    "result = np.round(A)"
   ]
  },
  {
   "cell_type": "code",
   "execution_count": 7,
   "id": "835a95aa",
   "metadata": {},
   "outputs": [
    {
     "data": {
      "text/plain": [
       "0.7407407407407407"
      ]
     },
     "execution_count": 7,
     "metadata": {},
     "output_type": "execute_result"
    }
   ],
   "source": [
    "# accuracy of our logistic regression\n",
    "np.sum(result == Y) / len(Y)"
   ]
  },
  {
   "cell_type": "code",
   "execution_count": 8,
   "id": "1fe3db18",
   "metadata": {},
   "outputs": [
    {
     "data": {
      "text/plain": [
       "array([ 0.07691857,  0.00625639, -0.02316007, -0.00478187,  0.00269485,\n",
       "        0.02494391,  0.45055505,  0.02102157])"
      ]
     },
     "execution_count": 8,
     "metadata": {},
     "output_type": "execute_result"
    }
   ],
   "source": [
    "W"
   ]
  },
  {
   "cell_type": "code",
   "execution_count": 9,
   "id": "507d603c",
   "metadata": {},
   "outputs": [
    {
     "data": {
      "text/plain": [
       "-1.818741884392334"
      ]
     },
     "execution_count": 9,
     "metadata": {},
     "output_type": "execute_result"
    }
   ],
   "source": [
    "b"
   ]
  },
  {
   "cell_type": "code",
   "execution_count": 10,
   "id": "70c982f4",
   "metadata": {},
   "outputs": [],
   "source": [
    "from sklearn.linear_model import LogisticRegression\n",
    "model = LogisticRegression()\n",
    "model.fit(X.T, Y)\n",
    "result = model.predict(X.T)"
   ]
  },
  {
   "cell_type": "code",
   "execution_count": 11,
   "id": "5a87a41e",
   "metadata": {},
   "outputs": [
    {
     "data": {
      "text/plain": [
       "0.75"
      ]
     },
     "execution_count": 11,
     "metadata": {},
     "output_type": "execute_result"
    }
   ],
   "source": [
    "# accuracy of sklearn's logistic regression\n",
    "np.sum(result == Y) / len(Y)"
   ]
  },
  {
   "cell_type": "code",
   "execution_count": 12,
   "id": "d289b586",
   "metadata": {},
   "outputs": [
    {
     "data": {
      "text/plain": [
       "0.35185185185185186"
      ]
     },
     "execution_count": 12,
     "metadata": {},
     "output_type": "execute_result"
    }
   ],
   "source": [
    "# how many 1's in data?\n",
    "np.sum(Y)/len(Y)"
   ]
  },
  {
   "cell_type": "code",
   "execution_count": 13,
   "id": "51fb8afc",
   "metadata": {},
   "outputs": [
    {
     "data": {
      "text/plain": [
       "array([[ 0.05037846,  0.02912388, -0.01239457,  0.01482378, -0.00091604,\n",
       "         0.06861668,  0.05152803,  0.04261078]])"
      ]
     },
     "execution_count": 13,
     "metadata": {},
     "output_type": "execute_result"
    }
   ],
   "source": [
    "model.coef_"
   ]
  },
  {
   "cell_type": "code",
   "execution_count": null,
   "id": "3bd626af",
   "metadata": {},
   "outputs": [],
   "source": []
  }
 ],
 "metadata": {
  "kernelspec": {
   "display_name": "Python 3 (ipykernel)",
   "language": "python",
   "name": "python3"
  },
  "language_info": {
   "codemirror_mode": {
    "name": "ipython",
    "version": 3
   },
   "file_extension": ".py",
   "mimetype": "text/x-python",
   "name": "python",
   "nbconvert_exporter": "python",
   "pygments_lexer": "ipython3",
   "version": "3.9.16"
  }
 },
 "nbformat": 4,
 "nbformat_minor": 5
}
